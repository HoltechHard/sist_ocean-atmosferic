{
  "cells": [
    {
      "cell_type": "markdown",
      "metadata": {
        "id": "U-DLzCQZE6iN"
      },
      "source": [
        "## Дисциплина \"Моделирование природных процессов в океане\"\n",
        "## Лабораторная работа №1\n",
        "### ИССЛЕДОВАНИЕ РЕАКЦИИ СИСТЕМЫ ОКЕАН - АТМОСФЕРА НА ВНЕШНЕЕ ПОСТОЯННОЕ ВОЗМУЩЕНИЕ\n",
        "\n",
        "Цель:\n",
        "- Исследование изменения температуры поверхности (температуры приземного слоя атмосферы), создаваемые возмущениями солнечной постоянной или концентрации активных в радиационном отношении газов (таких, как СО2) с помощью простейшей нульмерной модели системы океан— атмосфера.\n",
        "\n",
        "- Получение практических навыков численного решения системы обыкновенных дифференциальных уравнений методом Рунге-Кутта.\n",
        "\n",
        "- Получение навыков реализации программного кода на языке Python в интерактивной облачной среде Google Colaboratory \n",
        " \n",
        "\n",
        "**Описание работы см. в Лабораторном практикуме: Взаимодействие океана и атмосферы. Л.: Гидрометеоиздат, 1989., на стр. 142, Практическая работа № 2**\n",
        "\n",
        "## © *Софьина Е.В. 25.03.2023*"
      ]
    },
    {
      "cell_type": "markdown",
      "source": [
        "INVESTIGACIÓN DE LA RESPUESTA DEL SISTEMA OCÉANO-ATMOSFERA A UNA PERTURBACIÓN EXTERNA CONSTANTE  \n",
        "Objetivo:\n",
        "\n",
        "Investigación de cambios en la temperatura de la superficie (temperatura de la capa superficial de la atmósfera) creados por perturbaciones de la constante solar o la concentración de gases radiativamente activos (como el CO2) utilizando el modelo de dimensión cero más simple del sistema océano-atmósfera.\n",
        "\n",
        "Obtención de habilidades prácticas en la solución numérica de un sistema de ecuaciones diferenciales ordinarias por el método de Runge-Kutta.\n",
        "\n",
        "Adquirir habilidades en la implementación del código Python en el entorno de nube interactivo de Google Colaboratory\n",
        "\n",
        "Para una descripción del trabajo, ver Taller de Laboratorio: Interacción Océano-Atmósfera. L .: Gidrometeoizdat, 1989., en la página 142, Trabajo práctico No. 2"
      ],
      "metadata": {
        "id": "I1nNDWTzXgsg"
      }
    },
    {
      "cell_type": "markdown",
      "metadata": {
        "id": "D5nu1Fr45PXx"
      },
      "source": [
        "Импорт модулей  \n"
      ]
    },
    {
      "cell_type": "markdown",
      "source": [
        "Importar módulos"
      ],
      "metadata": {
        "id": "8xt2cPlIYGtI"
      }
    },
    {
      "cell_type": "code",
      "execution_count": 2,
      "metadata": {
        "id": "WxXJdtLO5OtJ"
      },
      "outputs": [],
      "source": [
        "import numpy as np\n",
        "import matplotlib.pyplot as plt"
      ]
    },
    {
      "cell_type": "markdown",
      "metadata": {
        "id": "VpHcug3svRI2"
      },
      "source": [
        "Параметры"
      ]
    },
    {
      "cell_type": "markdown",
      "source": [
        "Parámetros"
      ],
      "metadata": {
        "id": "Q-gEy6S7YL16"
      }
    },
    {
      "cell_type": "code",
      "execution_count": 3,
      "metadata": {
        "id": "ZLAtCOhwvOo1"
      },
      "outputs": [],
      "source": [
        "Ca = 0.45 \n",
        "Cm = 10.\n",
        "Cd = 100.\n",
        "La = 2.4"
      ]
    },
    {
      "cell_type": "markdown",
      "metadata": {
        "id": "gXf1tFVVxY7s"
      },
      "source": [
        "Исходные данные"
      ]
    },
    {
      "cell_type": "markdown",
      "source": [
        "Datos iniciales"
      ],
      "metadata": {
        "id": "g2FLLb7iYRm2"
      }
    },
    {
      "cell_type": "markdown",
      "source": [
        "# Experimento 03: Q1 = 1.6, lmd = 0"
      ],
      "metadata": {
        "id": "v55ivShV-zxF"
      }
    },
    {
      "cell_type": "code",
      "execution_count": 4,
      "metadata": {
        "id": "xcYYSfRNxhpe"
      },
      "outputs": [],
      "source": [
        "Lam = 45.     #0. \n",
        "Lmd = 0       #0.\n",
        "Q = 1.6"
      ]
    },
    {
      "cell_type": "markdown",
      "metadata": {
        "id": "LtVNUJCZx3gX"
      },
      "source": [
        "Начальные данные"
      ]
    },
    {
      "cell_type": "markdown",
      "source": [
        "Datos Iniciales"
      ],
      "metadata": {
        "id": "MdLEt92yYV06"
      }
    },
    {
      "cell_type": "code",
      "execution_count": 5,
      "metadata": {
        "id": "nUEghug0xtGy"
      },
      "outputs": [],
      "source": [
        "t = 0.\n",
        "Ta = 0.\n",
        "Tm = 0.\n",
        "Td = 0."
      ]
    },
    {
      "cell_type": "markdown",
      "metadata": {
        "id": "Jv6JA1SAxpj_"
      },
      "source": [
        "Инициализация"
      ]
    },
    {
      "cell_type": "markdown",
      "source": [
        "Inicialización"
      ],
      "metadata": {
        "id": "n9kdvANkYbmO"
      }
    },
    {
      "cell_type": "code",
      "execution_count": 6,
      "metadata": {
        "id": "onrjgj9hyH4m"
      },
      "outputs": [],
      "source": [
        "y1 = Ta\n",
        "y2 = Tm\n",
        "y3 = Td\n",
        "delt = 1/365.\n",
        "e_cr = 5.e-5\n",
        "e = 1.\n",
        "# массивы для временной эволюции температуры\n",
        "y1t = []\n",
        "y2t = []\n",
        "y3t = []"
      ]
    },
    {
      "cell_type": "markdown",
      "metadata": {
        "id": "fvbRHQ8cySRX"
      },
      "source": [
        "\n",
        "\n",
        "```\n",
        "# Tiene formato de código\n",
        "```\n",
        "\n",
        "Функции расчета К"
      ]
    },
    {
      "cell_type": "markdown",
      "source": [
        "Funciones de cálculo K"
      ],
      "metadata": {
        "id": "_so-zS0cZN88"
      }
    },
    {
      "cell_type": "code",
      "execution_count": 7,
      "metadata": {
        "id": "krGzxfiXybII"
      },
      "outputs": [],
      "source": [
        "def kya(ya,ym,yd):\n",
        "  ky1 = (Q-Lam*(ya-ym)-La*ya)/Ca\n",
        "  return ky1\n",
        "def kym(ya,ym,yd):\n",
        "  ky2 = (-Lam*(ym-ya)-Lmd*(ym-yd))/Cm\n",
        "  return ky2\n",
        "def kyd(ya,ym,yd):\n",
        "  ky3 = (-Lmd*(yd-ym))/Cd\n",
        "  return ky3"
      ]
    },
    {
      "cell_type": "markdown",
      "metadata": {
        "id": "RQ4k1TXj0T46"
      },
      "source": [
        "Итерация по времени"
      ]
    },
    {
      "cell_type": "markdown",
      "source": [
        "Iteración de tiempo"
      ],
      "metadata": {
        "id": "IegL6F5VZZLi"
      }
    },
    {
      "cell_type": "code",
      "execution_count": 8,
      "metadata": {
        "id": "8lmXQ86b0Z2L"
      },
      "outputs": [],
      "source": [
        "while e>e_cr :\n",
        "  k1y1 = kya(y1,y2,y3)\n",
        "  k1y2 = kym(y1,y2,y3)\n",
        "  k1y3 = kyd(y1,y2,y3)\n",
        "\n",
        "  k2y1 = kya(y1+delt/2.*k1y1,y2+delt/2.*k1y2,y3+delt/2.*k1y3)\n",
        "  k2y2 = kym(y1+delt/2.*k1y1,y2+delt/2.*k1y2,y3+delt/2.*k1y3)\n",
        "  k2y3 = kyd(y1+delt/2.*k1y1,y2+delt/2.*k1y2,y3+delt/2.*k1y3)\n",
        "\n",
        "  k3y1 = kya(y1+delt/2.*k2y1,y2+delt/2.*k2y2,y3+delt/2.*k2y3)\n",
        "  k3y2 = kym(y1+delt/2.*k2y1,y2+delt/2.*k2y2,y3+delt/2.*k2y3)\n",
        "  k3y3 = kyd(y1+delt/2.*k2y1,y2+delt/2.*k2y2,y3+delt/2.*k2y3)\n",
        "\n",
        "  k4y1 = kya(y1+delt*k3y1,y2+delt*k3y2,y3+delt*k3y3)\n",
        "  k4y2 = kym(y1+delt*k3y1,y2+delt*k3y2,y3+delt*k3y3)\n",
        "  k4y3 = kyd(y1+delt*k3y1,y2+delt*k3y2,y3+delt*k3y3)\n",
        "\n",
        "  t = t + delt\n",
        "  y1old = y1\n",
        "  y2old = y2\n",
        "  y3old = y3\n",
        "\n",
        "  y1 =y1old + delt/6.*(k1y1+2.*k2y1+2.*k3y1+k4y1)\n",
        "  y2 =y2old + delt/6.*(k1y2+2.*k2y2+2.*k3y2+k4y2)\n",
        "  y3 =y3old + delt/6.*(k1y3+2.*k2y3+2.*k3y3+k4y3)\n",
        "\n",
        "  # реакция атмосферы, ВКС и ГС\n",
        "  #e = max(abs(y3-y1), abs(y3-y2), abs(y2-y1))\n",
        "  # реакция атмосферы и ВКС\n",
        "  e = abs(y2-y1)\n",
        "  # реакция атмосферы\n",
        "  # e = abs(y1-y1old)\n",
        "\n",
        "  y1t.append(y1) \n",
        "  y2t.append(y2)\n",
        "  y3t.append(y3)"
      ]
    },
    {
      "cell_type": "markdown",
      "metadata": {
        "id": "iRhyzChb56bv"
      },
      "source": [
        "результаты расчета"
      ]
    },
    {
      "cell_type": "markdown",
      "source": [
        "Resultados de Cálculo"
      ],
      "metadata": {
        "id": "ruJveNJMZkC_"
      }
    },
    {
      "cell_type": "code",
      "execution_count": 9,
      "metadata": {
        "colab": {
          "base_uri": "https://localhost:8080/"
        },
        "id": "JGwL6FOR55cp",
        "outputId": "88b97ed1-1246-46d3-932e-e2365792e78f"
      },
      "outputs": [
        {
          "output_type": "stream",
          "name": "stdout",
          "text": [
            "t =  29.583561643829658\n",
            "Ta =  0.6656892980687312 Tm =  0.6656393116858679 Td =  0.0\n"
          ]
        }
      ],
      "source": [
        "print('t = ', t)\n",
        "print('Ta = ',y1,'Tm = ',y2,'Td = ',y3)"
      ]
    },
    {
      "cell_type": "code",
      "execution_count": 10,
      "metadata": {
        "colab": {
          "base_uri": "https://localhost:8080/",
          "height": 449
        },
        "id": "DIR2mo0TBStg",
        "outputId": "37a2bbd3-e89d-41a8-b202-9a0d2611763f"
      },
      "outputs": [
        {
          "output_type": "display_data",
          "data": {
            "text/plain": [
              "<Figure size 640x480 with 1 Axes>"
            ],
            "image/png": "[encoded data removed]"
          },
          "metadata": {}
        }
      ],
      "source": [
        "# gráfica\n",
        "t_time = np.arange(0,t,delt)\n",
        "plt.plot(t_time,y1t, label='Ta')\n",
        "plt.plot(t_time,y2t, label='Tm')\n",
        "plt.plot(t_time,y3t, label='Td')\n",
        "plt.xlabel('Time, year')\n",
        "plt.ylabel('Temperature, C')\n",
        "plt.grid()\n",
        "plt.legend()\n",
        "plt.show()"
      ]
    },
    {
      "cell_type": "code",
      "source": [
        "# gráfica\n",
        "p = 50000\n",
        "t_time = np.arange(0,t,delt)\n",
        "plt.plot(t_time[:p],y1t[:p], label='Ta')\n",
        "plt.plot(t_time[:p],y2t[:p], label='Tm')\n",
        "plt.plot(t_time[:p],y3t[:p], label='Td')\n",
        "plt.xlabel('Time, year')\n",
        "plt.ylabel('Temperature, C')\n",
        "plt.grid()\n",
        "plt.legend()\n",
        "plt.show()"
      ],
      "metadata": {
        "colab": {
          "base_uri": "https://localhost:8080/",
          "height": 449
        },
        "id": "LBKdg_gtujtg",
        "outputId": "dedc66c2-f6a4-47b8-b3fa-0f3015fa7304"
      },
      "execution_count": 14,
      "outputs": [
        {
          "output_type": "display_data",
          "data": {
            "text/plain": [
              "<Figure size 640x480 with 1 Axes>"
            ],
            "image/png": "[encoded data removed]"
          },
          "metadata": {}
        }
      ]
    }
  ],
  "metadata": {
    "colab": {
      "provenance": []
    },
    "kernelspec": {
      "display_name": "Python 3",
      "name": "python3"
    },
    "language_info": {
      "name": "python"
    }
  },
  "nbformat": 4,
  "nbformat_minor": 0
}